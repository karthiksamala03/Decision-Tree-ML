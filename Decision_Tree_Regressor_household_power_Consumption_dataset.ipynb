{
  "cells": [
    {
      "cell_type": "markdown",
      "id": "63d29371",
      "metadata": {
        "id": "63d29371"
      },
      "source": [
        "# Decision Tree Regression Model Building"
      ]
    },
    {
      "cell_type": "markdown",
      "id": "ea3c83b1",
      "metadata": {
        "id": "ea3c83b1"
      },
      "source": [
        "Data Collection:\n",
        "    https://archive.ics.uci.edu/ml/datasets/Individual+household+electric+power+consumption#"
      ]
    },
    {
      "cell_type": "markdown",
      "id": "4a3fb0c5",
      "metadata": {
        "id": "4a3fb0c5"
      },
      "source": [
        "Data Set Information:\n",
        "\n",
        "This archive contains 2075259 measurements gathered in a house located in Sceaux (7km of Paris, France) between December 2006 and November 2010 (47 months).\n",
        "Notes:\n",
        "1.(global_active_power*1000/60 - sub_metering_1 - sub_metering_2 - sub_metering_3) represents the active energy consumed every minute (in watt hour) in the household by electrical equipment not measured in sub-meterings 1, 2 and 3.\n",
        "2.The dataset contains some missing values in the measurements (nearly 1,25% of the rows). All calendar timestamps are present in the dataset but for some timestamps, the measurement values are missing: a missing value is represented by the absence of value between two consecutive semi-colon attribute separators. For instance, the dataset shows missing values on April 28, 2007."
      ]
    },
    {
      "cell_type": "markdown",
      "id": "7cc17854",
      "metadata": {
        "id": "7cc17854"
      },
      "source": [
        "Attribute Information:\n",
        "\n",
        "1. date: Date in format dd/mm/yyyy\n",
        "2. time: time in format hh:mm:ss\n",
        "3. global_active_power: household global minute-averaged active power (in kilowatt)\n",
        "4. global_reactive_power: household global minute-averaged reactive power (in kilowatt)\n",
        "5. voltage: minute-averaged voltage (in volt)\n",
        "6. global_intensity: household global minute-averaged current intensity (in ampere)\n",
        "7. sub_metering_1: energy sub-metering No. 1 (in watt-hour of active energy). It corresponds to the kitchen, containing mainly a dishwasher, an oven and a microwave (hot plates are not electric but gas powered).\n",
        "8. sub_metering_2: energy sub-metering No. 2 (in watt-hour of active energy). It corresponds to the laundry room, containing a washing-machine, a tumble-drier, a refrigerator and a light.\n",
        "9. sub_metering_3: energy sub-metering No. 3 (in watt-hour of active energy). It corresponds to an electric water-heater and an air-conditioner."
      ]
    },
    {
      "cell_type": "code",
      "source": [
        "import tensorflow as tf\n",
        "tf.test.gpu_device_name()"
      ],
      "metadata": {
        "colab": {
          "base_uri": "https://localhost:8080/",
          "height": 36
        },
        "id": "7O2HSfuZg8OG",
        "outputId": "de099eaa-4a72-4e32-c304-0542ed0238cf"
      },
      "id": "7O2HSfuZg8OG",
      "execution_count": 3,
      "outputs": [
        {
          "output_type": "execute_result",
          "data": {
            "text/plain": [
              "'/device:GPU:0'"
            ],
            "application/vnd.google.colaboratory.intrinsic+json": {
              "type": "string"
            }
          },
          "metadata": {},
          "execution_count": 3
        }
      ]
    },
    {
      "cell_type": "code",
      "source": [
        "from google.colab import drive\n",
        "drive.mount('/content/drive')"
      ],
      "metadata": {
        "colab": {
          "base_uri": "https://localhost:8080/"
        },
        "id": "spM5C63Fg8rq",
        "outputId": "eac93f77-2fe8-4ab3-c55d-dced61c3634a"
      },
      "id": "spM5C63Fg8rq",
      "execution_count": 4,
      "outputs": [
        {
          "output_type": "stream",
          "name": "stdout",
          "text": [
            "Drive already mounted at /content/drive; to attempt to forcibly remount, call drive.mount(\"/content/drive\", force_remount=True).\n"
          ]
        }
      ]
    },
    {
      "cell_type": "markdown",
      "id": "56081e5f",
      "metadata": {
        "id": "56081e5f"
      },
      "source": [
        "### Importing required libraries"
      ]
    },
    {
      "cell_type": "code",
      "execution_count": 5,
      "id": "f4430368",
      "metadata": {
        "id": "f4430368"
      },
      "outputs": [],
      "source": [
        "import pandas as pd\n",
        "import numpy as np\n",
        "import matplotlib.pyplot as plt\n",
        "%matplotlib inline\n",
        "import seaborn as sns\n",
        "\n",
        "import warnings\n",
        "warnings.filterwarnings(\"ignore\")"
      ]
    },
    {
      "cell_type": "markdown",
      "id": "8614a8e6",
      "metadata": {
        "id": "8614a8e6"
      },
      "source": [
        "### Loading Dataset"
      ]
    },
    {
      "cell_type": "code",
      "execution_count": 37,
      "id": "051aa463",
      "metadata": {
        "id": "051aa463"
      },
      "outputs": [],
      "source": [
        "df = pd.read_csv(\"/content/drive/MyDrive/Colab Notebooks/Datasets/household_power_consumption.txt\", sep=\";\")"
      ]
    },
    {
      "cell_type": "markdown",
      "id": "70938936",
      "metadata": {
        "id": "70938936"
      },
      "source": [
        "### Checking shape of the dataset"
      ]
    },
    {
      "cell_type": "code",
      "execution_count": 38,
      "id": "1caf672e",
      "metadata": {
        "colab": {
          "base_uri": "https://localhost:8080/"
        },
        "id": "1caf672e",
        "outputId": "e62ea397-5a32-47dd-e358-694f2e7b6b21"
      },
      "outputs": [
        {
          "output_type": "execute_result",
          "data": {
            "text/plain": [
              "(2075259, 9)"
            ]
          },
          "metadata": {},
          "execution_count": 38
        }
      ],
      "source": [
        "df.shape"
      ]
    },
    {
      "cell_type": "code",
      "execution_count": 39,
      "id": "9d058727",
      "metadata": {
        "colab": {
          "base_uri": "https://localhost:8080/",
          "height": 206
        },
        "id": "9d058727",
        "outputId": "848145b7-2696-4ca8-b111-556c53bd97eb"
      },
      "outputs": [
        {
          "output_type": "execute_result",
          "data": {
            "text/plain": [
              "         Date      Time Global_active_power Global_reactive_power  Voltage  \\\n",
              "0  16/12/2006  17:24:00               4.216                 0.418  234.840   \n",
              "1  16/12/2006  17:25:00               5.360                 0.436  233.630   \n",
              "2  16/12/2006  17:26:00               5.374                 0.498  233.290   \n",
              "3  16/12/2006  17:27:00               5.388                 0.502  233.740   \n",
              "4  16/12/2006  17:28:00               3.666                 0.528  235.680   \n",
              "\n",
              "  Global_intensity Sub_metering_1 Sub_metering_2  Sub_metering_3  \n",
              "0           18.400          0.000          1.000            17.0  \n",
              "1           23.000          0.000          1.000            16.0  \n",
              "2           23.000          0.000          2.000            17.0  \n",
              "3           23.000          0.000          1.000            17.0  \n",
              "4           15.800          0.000          1.000            17.0  "
            ],
            "text/html": [
              "\n",
              "  <div id=\"df-d349fbd8-ce40-4421-98da-c35d6edfad12\">\n",
              "    <div class=\"colab-df-container\">\n",
              "      <div>\n",
              "<style scoped>\n",
              "    .dataframe tbody tr th:only-of-type {\n",
              "        vertical-align: middle;\n",
              "    }\n",
              "\n",
              "    .dataframe tbody tr th {\n",
              "        vertical-align: top;\n",
              "    }\n",
              "\n",
              "    .dataframe thead th {\n",
              "        text-align: right;\n",
              "    }\n",
              "</style>\n",
              "<table border=\"1\" class=\"dataframe\">\n",
              "  <thead>\n",
              "    <tr style=\"text-align: right;\">\n",
              "      <th></th>\n",
              "      <th>Date</th>\n",
              "      <th>Time</th>\n",
              "      <th>Global_active_power</th>\n",
              "      <th>Global_reactive_power</th>\n",
              "      <th>Voltage</th>\n",
              "      <th>Global_intensity</th>\n",
              "      <th>Sub_metering_1</th>\n",
              "      <th>Sub_metering_2</th>\n",
              "      <th>Sub_metering_3</th>\n",
              "    </tr>\n",
              "  </thead>\n",
              "  <tbody>\n",
              "    <tr>\n",
              "      <th>0</th>\n",
              "      <td>16/12/2006</td>\n",
              "      <td>17:24:00</td>\n",
              "      <td>4.216</td>\n",
              "      <td>0.418</td>\n",
              "      <td>234.840</td>\n",
              "      <td>18.400</td>\n",
              "      <td>0.000</td>\n",
              "      <td>1.000</td>\n",
              "      <td>17.0</td>\n",
              "    </tr>\n",
              "    <tr>\n",
              "      <th>1</th>\n",
              "      <td>16/12/2006</td>\n",
              "      <td>17:25:00</td>\n",
              "      <td>5.360</td>\n",
              "      <td>0.436</td>\n",
              "      <td>233.630</td>\n",
              "      <td>23.000</td>\n",
              "      <td>0.000</td>\n",
              "      <td>1.000</td>\n",
              "      <td>16.0</td>\n",
              "    </tr>\n",
              "    <tr>\n",
              "      <th>2</th>\n",
              "      <td>16/12/2006</td>\n",
              "      <td>17:26:00</td>\n",
              "      <td>5.374</td>\n",
              "      <td>0.498</td>\n",
              "      <td>233.290</td>\n",
              "      <td>23.000</td>\n",
              "      <td>0.000</td>\n",
              "      <td>2.000</td>\n",
              "      <td>17.0</td>\n",
              "    </tr>\n",
              "    <tr>\n",
              "      <th>3</th>\n",
              "      <td>16/12/2006</td>\n",
              "      <td>17:27:00</td>\n",
              "      <td>5.388</td>\n",
              "      <td>0.502</td>\n",
              "      <td>233.740</td>\n",
              "      <td>23.000</td>\n",
              "      <td>0.000</td>\n",
              "      <td>1.000</td>\n",
              "      <td>17.0</td>\n",
              "    </tr>\n",
              "    <tr>\n",
              "      <th>4</th>\n",
              "      <td>16/12/2006</td>\n",
              "      <td>17:28:00</td>\n",
              "      <td>3.666</td>\n",
              "      <td>0.528</td>\n",
              "      <td>235.680</td>\n",
              "      <td>15.800</td>\n",
              "      <td>0.000</td>\n",
              "      <td>1.000</td>\n",
              "      <td>17.0</td>\n",
              "    </tr>\n",
              "  </tbody>\n",
              "</table>\n",
              "</div>\n",
              "      <button class=\"colab-df-convert\" onclick=\"convertToInteractive('df-d349fbd8-ce40-4421-98da-c35d6edfad12')\"\n",
              "              title=\"Convert this dataframe to an interactive table.\"\n",
              "              style=\"display:none;\">\n",
              "        \n",
              "  <svg xmlns=\"http://www.w3.org/2000/svg\" height=\"24px\"viewBox=\"0 0 24 24\"\n",
              "       width=\"24px\">\n",
              "    <path d=\"M0 0h24v24H0V0z\" fill=\"none\"/>\n",
              "    <path d=\"M18.56 5.44l.94 2.06.94-2.06 2.06-.94-2.06-.94-.94-2.06-.94 2.06-2.06.94zm-11 1L8.5 8.5l.94-2.06 2.06-.94-2.06-.94L8.5 2.5l-.94 2.06-2.06.94zm10 10l.94 2.06.94-2.06 2.06-.94-2.06-.94-.94-2.06-.94 2.06-2.06.94z\"/><path d=\"M17.41 7.96l-1.37-1.37c-.4-.4-.92-.59-1.43-.59-.52 0-1.04.2-1.43.59L10.3 9.45l-7.72 7.72c-.78.78-.78 2.05 0 2.83L4 21.41c.39.39.9.59 1.41.59.51 0 1.02-.2 1.41-.59l7.78-7.78 2.81-2.81c.8-.78.8-2.07 0-2.86zM5.41 20L4 18.59l7.72-7.72 1.47 1.35L5.41 20z\"/>\n",
              "  </svg>\n",
              "      </button>\n",
              "      \n",
              "  <style>\n",
              "    .colab-df-container {\n",
              "      display:flex;\n",
              "      flex-wrap:wrap;\n",
              "      gap: 12px;\n",
              "    }\n",
              "\n",
              "    .colab-df-convert {\n",
              "      background-color: #E8F0FE;\n",
              "      border: none;\n",
              "      border-radius: 50%;\n",
              "      cursor: pointer;\n",
              "      display: none;\n",
              "      fill: #1967D2;\n",
              "      height: 32px;\n",
              "      padding: 0 0 0 0;\n",
              "      width: 32px;\n",
              "    }\n",
              "\n",
              "    .colab-df-convert:hover {\n",
              "      background-color: #E2EBFA;\n",
              "      box-shadow: 0px 1px 2px rgba(60, 64, 67, 0.3), 0px 1px 3px 1px rgba(60, 64, 67, 0.15);\n",
              "      fill: #174EA6;\n",
              "    }\n",
              "\n",
              "    [theme=dark] .colab-df-convert {\n",
              "      background-color: #3B4455;\n",
              "      fill: #D2E3FC;\n",
              "    }\n",
              "\n",
              "    [theme=dark] .colab-df-convert:hover {\n",
              "      background-color: #434B5C;\n",
              "      box-shadow: 0px 1px 3px 1px rgba(0, 0, 0, 0.15);\n",
              "      filter: drop-shadow(0px 1px 2px rgba(0, 0, 0, 0.3));\n",
              "      fill: #FFFFFF;\n",
              "    }\n",
              "  </style>\n",
              "\n",
              "      <script>\n",
              "        const buttonEl =\n",
              "          document.querySelector('#df-d349fbd8-ce40-4421-98da-c35d6edfad12 button.colab-df-convert');\n",
              "        buttonEl.style.display =\n",
              "          google.colab.kernel.accessAllowed ? 'block' : 'none';\n",
              "\n",
              "        async function convertToInteractive(key) {\n",
              "          const element = document.querySelector('#df-d349fbd8-ce40-4421-98da-c35d6edfad12');\n",
              "          const dataTable =\n",
              "            await google.colab.kernel.invokeFunction('convertToInteractive',\n",
              "                                                     [key], {});\n",
              "          if (!dataTable) return;\n",
              "\n",
              "          const docLinkHtml = 'Like what you see? Visit the ' +\n",
              "            '<a target=\"_blank\" href=https://colab.research.google.com/notebooks/data_table.ipynb>data table notebook</a>'\n",
              "            + ' to learn more about interactive tables.';\n",
              "          element.innerHTML = '';\n",
              "          dataTable['output_type'] = 'display_data';\n",
              "          await google.colab.output.renderOutput(dataTable, element);\n",
              "          const docLink = document.createElement('div');\n",
              "          docLink.innerHTML = docLinkHtml;\n",
              "          element.appendChild(docLink);\n",
              "        }\n",
              "      </script>\n",
              "    </div>\n",
              "  </div>\n",
              "  "
            ]
          },
          "metadata": {},
          "execution_count": 39
        }
      ],
      "source": [
        "df.head()"
      ]
    },
    {
      "cell_type": "markdown",
      "source": [
        "### Taking sample data of 50K"
      ],
      "metadata": {
        "id": "aPeAekDUnc0C"
      },
      "id": "aPeAekDUnc0C"
    },
    {
      "cell_type": "code",
      "source": [
        "data = df.sample(n=50000, ignore_index=True)"
      ],
      "metadata": {
        "id": "9FdmCeIUnb4w"
      },
      "id": "9FdmCeIUnb4w",
      "execution_count": 40,
      "outputs": []
    },
    {
      "cell_type": "code",
      "execution_count": 41,
      "id": "ba2f424e",
      "metadata": {
        "colab": {
          "base_uri": "https://localhost:8080/",
          "height": 426
        },
        "id": "ba2f424e",
        "outputId": "132357b7-b0d6-4e13-d01c-4383ed0d7839"
      },
      "outputs": [
        {
          "output_type": "execute_result",
          "data": {
            "text/plain": [
              "             Date      Time Global_active_power Global_reactive_power  \\\n",
              "2974   16/12/2006  21:51:00               3.494                 0.170   \n",
              "6409   16/12/2006  20:55:00               1.832                 0.170   \n",
              "12029  16/12/2006  17:31:00               3.700                 0.520   \n",
              "13073  16/12/2006  23:49:00               1.206                 0.000   \n",
              "17197  16/12/2006  20:04:00               3.194                 0.078   \n",
              "19256  16/12/2006  23:11:00               2.336                 0.060   \n",
              "26708  16/12/2006  19:29:00               3.614                 0.192   \n",
              "29255  16/12/2006  18:59:00               4.224                 0.090   \n",
              "32870  16/12/2006  18:00:00               2.790                 0.180   \n",
              "38472  16/12/2006  21:28:00               3.494                 0.144   \n",
              "39337  16/12/2006  23:40:00               2.378                 0.000   \n",
              "40671  16/12/2006  23:14:00               1.038                 0.000   \n",
              "\n",
              "       Voltage Global_intensity Sub_metering_1 Sub_metering_2  Sub_metering_3  \n",
              "2974   236.280           14.800          0.000          1.000            17.0  \n",
              "6409   237.540            8.400          0.000          0.000            17.0  \n",
              "12029  235.220           15.800          0.000          1.000            17.0  \n",
              "13073  241.830            5.400          0.000          0.000             0.0  \n",
              "17197  231.980           13.600          0.000          0.000            16.0  \n",
              "19256  240.070            9.600          0.000          0.000             0.0  \n",
              "26708  233.920           15.400          0.000          5.000            17.0  \n",
              "29255  231.960           18.200          0.000          1.000            16.0  \n",
              "32870  237.520           11.800          0.000          0.000            18.0  \n",
              "38472  237.430           14.600          0.000          0.000            17.0  \n",
              "39337  241.180            9.800          0.000          0.000             0.0  \n",
              "40671  241.170            6.000          0.000          0.000             0.0  "
            ],
            "text/html": [
              "\n",
              "  <div id=\"df-7984e8b9-8c31-4ebb-98cb-1a705b8ade23\">\n",
              "    <div class=\"colab-df-container\">\n",
              "      <div>\n",
              "<style scoped>\n",
              "    .dataframe tbody tr th:only-of-type {\n",
              "        vertical-align: middle;\n",
              "    }\n",
              "\n",
              "    .dataframe tbody tr th {\n",
              "        vertical-align: top;\n",
              "    }\n",
              "\n",
              "    .dataframe thead th {\n",
              "        text-align: right;\n",
              "    }\n",
              "</style>\n",
              "<table border=\"1\" class=\"dataframe\">\n",
              "  <thead>\n",
              "    <tr style=\"text-align: right;\">\n",
              "      <th></th>\n",
              "      <th>Date</th>\n",
              "      <th>Time</th>\n",
              "      <th>Global_active_power</th>\n",
              "      <th>Global_reactive_power</th>\n",
              "      <th>Voltage</th>\n",
              "      <th>Global_intensity</th>\n",
              "      <th>Sub_metering_1</th>\n",
              "      <th>Sub_metering_2</th>\n",
              "      <th>Sub_metering_3</th>\n",
              "    </tr>\n",
              "  </thead>\n",
              "  <tbody>\n",
              "    <tr>\n",
              "      <th>2974</th>\n",
              "      <td>16/12/2006</td>\n",
              "      <td>21:51:00</td>\n",
              "      <td>3.494</td>\n",
              "      <td>0.170</td>\n",
              "      <td>236.280</td>\n",
              "      <td>14.800</td>\n",
              "      <td>0.000</td>\n",
              "      <td>1.000</td>\n",
              "      <td>17.0</td>\n",
              "    </tr>\n",
              "    <tr>\n",
              "      <th>6409</th>\n",
              "      <td>16/12/2006</td>\n",
              "      <td>20:55:00</td>\n",
              "      <td>1.832</td>\n",
              "      <td>0.170</td>\n",
              "      <td>237.540</td>\n",
              "      <td>8.400</td>\n",
              "      <td>0.000</td>\n",
              "      <td>0.000</td>\n",
              "      <td>17.0</td>\n",
              "    </tr>\n",
              "    <tr>\n",
              "      <th>12029</th>\n",
              "      <td>16/12/2006</td>\n",
              "      <td>17:31:00</td>\n",
              "      <td>3.700</td>\n",
              "      <td>0.520</td>\n",
              "      <td>235.220</td>\n",
              "      <td>15.800</td>\n",
              "      <td>0.000</td>\n",
              "      <td>1.000</td>\n",
              "      <td>17.0</td>\n",
              "    </tr>\n",
              "    <tr>\n",
              "      <th>13073</th>\n",
              "      <td>16/12/2006</td>\n",
              "      <td>23:49:00</td>\n",
              "      <td>1.206</td>\n",
              "      <td>0.000</td>\n",
              "      <td>241.830</td>\n",
              "      <td>5.400</td>\n",
              "      <td>0.000</td>\n",
              "      <td>0.000</td>\n",
              "      <td>0.0</td>\n",
              "    </tr>\n",
              "    <tr>\n",
              "      <th>17197</th>\n",
              "      <td>16/12/2006</td>\n",
              "      <td>20:04:00</td>\n",
              "      <td>3.194</td>\n",
              "      <td>0.078</td>\n",
              "      <td>231.980</td>\n",
              "      <td>13.600</td>\n",
              "      <td>0.000</td>\n",
              "      <td>0.000</td>\n",
              "      <td>16.0</td>\n",
              "    </tr>\n",
              "    <tr>\n",
              "      <th>19256</th>\n",
              "      <td>16/12/2006</td>\n",
              "      <td>23:11:00</td>\n",
              "      <td>2.336</td>\n",
              "      <td>0.060</td>\n",
              "      <td>240.070</td>\n",
              "      <td>9.600</td>\n",
              "      <td>0.000</td>\n",
              "      <td>0.000</td>\n",
              "      <td>0.0</td>\n",
              "    </tr>\n",
              "    <tr>\n",
              "      <th>26708</th>\n",
              "      <td>16/12/2006</td>\n",
              "      <td>19:29:00</td>\n",
              "      <td>3.614</td>\n",
              "      <td>0.192</td>\n",
              "      <td>233.920</td>\n",
              "      <td>15.400</td>\n",
              "      <td>0.000</td>\n",
              "      <td>5.000</td>\n",
              "      <td>17.0</td>\n",
              "    </tr>\n",
              "    <tr>\n",
              "      <th>29255</th>\n",
              "      <td>16/12/2006</td>\n",
              "      <td>18:59:00</td>\n",
              "      <td>4.224</td>\n",
              "      <td>0.090</td>\n",
              "      <td>231.960</td>\n",
              "      <td>18.200</td>\n",
              "      <td>0.000</td>\n",
              "      <td>1.000</td>\n",
              "      <td>16.0</td>\n",
              "    </tr>\n",
              "    <tr>\n",
              "      <th>32870</th>\n",
              "      <td>16/12/2006</td>\n",
              "      <td>18:00:00</td>\n",
              "      <td>2.790</td>\n",
              "      <td>0.180</td>\n",
              "      <td>237.520</td>\n",
              "      <td>11.800</td>\n",
              "      <td>0.000</td>\n",
              "      <td>0.000</td>\n",
              "      <td>18.0</td>\n",
              "    </tr>\n",
              "    <tr>\n",
              "      <th>38472</th>\n",
              "      <td>16/12/2006</td>\n",
              "      <td>21:28:00</td>\n",
              "      <td>3.494</td>\n",
              "      <td>0.144</td>\n",
              "      <td>237.430</td>\n",
              "      <td>14.600</td>\n",
              "      <td>0.000</td>\n",
              "      <td>0.000</td>\n",
              "      <td>17.0</td>\n",
              "    </tr>\n",
              "    <tr>\n",
              "      <th>39337</th>\n",
              "      <td>16/12/2006</td>\n",
              "      <td>23:40:00</td>\n",
              "      <td>2.378</td>\n",
              "      <td>0.000</td>\n",
              "      <td>241.180</td>\n",
              "      <td>9.800</td>\n",
              "      <td>0.000</td>\n",
              "      <td>0.000</td>\n",
              "      <td>0.0</td>\n",
              "    </tr>\n",
              "    <tr>\n",
              "      <th>40671</th>\n",
              "      <td>16/12/2006</td>\n",
              "      <td>23:14:00</td>\n",
              "      <td>1.038</td>\n",
              "      <td>0.000</td>\n",
              "      <td>241.170</td>\n",
              "      <td>6.000</td>\n",
              "      <td>0.000</td>\n",
              "      <td>0.000</td>\n",
              "      <td>0.0</td>\n",
              "    </tr>\n",
              "  </tbody>\n",
              "</table>\n",
              "</div>\n",
              "      <button class=\"colab-df-convert\" onclick=\"convertToInteractive('df-7984e8b9-8c31-4ebb-98cb-1a705b8ade23')\"\n",
              "              title=\"Convert this dataframe to an interactive table.\"\n",
              "              style=\"display:none;\">\n",
              "        \n",
              "  <svg xmlns=\"http://www.w3.org/2000/svg\" height=\"24px\"viewBox=\"0 0 24 24\"\n",
              "       width=\"24px\">\n",
              "    <path d=\"M0 0h24v24H0V0z\" fill=\"none\"/>\n",
              "    <path d=\"M18.56 5.44l.94 2.06.94-2.06 2.06-.94-2.06-.94-.94-2.06-.94 2.06-2.06.94zm-11 1L8.5 8.5l.94-2.06 2.06-.94-2.06-.94L8.5 2.5l-.94 2.06-2.06.94zm10 10l.94 2.06.94-2.06 2.06-.94-2.06-.94-.94-2.06-.94 2.06-2.06.94z\"/><path d=\"M17.41 7.96l-1.37-1.37c-.4-.4-.92-.59-1.43-.59-.52 0-1.04.2-1.43.59L10.3 9.45l-7.72 7.72c-.78.78-.78 2.05 0 2.83L4 21.41c.39.39.9.59 1.41.59.51 0 1.02-.2 1.41-.59l7.78-7.78 2.81-2.81c.8-.78.8-2.07 0-2.86zM5.41 20L4 18.59l7.72-7.72 1.47 1.35L5.41 20z\"/>\n",
              "  </svg>\n",
              "      </button>\n",
              "      \n",
              "  <style>\n",
              "    .colab-df-container {\n",
              "      display:flex;\n",
              "      flex-wrap:wrap;\n",
              "      gap: 12px;\n",
              "    }\n",
              "\n",
              "    .colab-df-convert {\n",
              "      background-color: #E8F0FE;\n",
              "      border: none;\n",
              "      border-radius: 50%;\n",
              "      cursor: pointer;\n",
              "      display: none;\n",
              "      fill: #1967D2;\n",
              "      height: 32px;\n",
              "      padding: 0 0 0 0;\n",
              "      width: 32px;\n",
              "    }\n",
              "\n",
              "    .colab-df-convert:hover {\n",
              "      background-color: #E2EBFA;\n",
              "      box-shadow: 0px 1px 2px rgba(60, 64, 67, 0.3), 0px 1px 3px 1px rgba(60, 64, 67, 0.15);\n",
              "      fill: #174EA6;\n",
              "    }\n",
              "\n",
              "    [theme=dark] .colab-df-convert {\n",
              "      background-color: #3B4455;\n",
              "      fill: #D2E3FC;\n",
              "    }\n",
              "\n",
              "    [theme=dark] .colab-df-convert:hover {\n",
              "      background-color: #434B5C;\n",
              "      box-shadow: 0px 1px 3px 1px rgba(0, 0, 0, 0.15);\n",
              "      filter: drop-shadow(0px 1px 2px rgba(0, 0, 0, 0.3));\n",
              "      fill: #FFFFFF;\n",
              "    }\n",
              "  </style>\n",
              "\n",
              "      <script>\n",
              "        const buttonEl =\n",
              "          document.querySelector('#df-7984e8b9-8c31-4ebb-98cb-1a705b8ade23 button.colab-df-convert');\n",
              "        buttonEl.style.display =\n",
              "          google.colab.kernel.accessAllowed ? 'block' : 'none';\n",
              "\n",
              "        async function convertToInteractive(key) {\n",
              "          const element = document.querySelector('#df-7984e8b9-8c31-4ebb-98cb-1a705b8ade23');\n",
              "          const dataTable =\n",
              "            await google.colab.kernel.invokeFunction('convertToInteractive',\n",
              "                                                     [key], {});\n",
              "          if (!dataTable) return;\n",
              "\n",
              "          const docLinkHtml = 'Like what you see? Visit the ' +\n",
              "            '<a target=\"_blank\" href=https://colab.research.google.com/notebooks/data_table.ipynb>data table notebook</a>'\n",
              "            + ' to learn more about interactive tables.';\n",
              "          element.innerHTML = '';\n",
              "          dataTable['output_type'] = 'display_data';\n",
              "          await google.colab.output.renderOutput(dataTable, element);\n",
              "          const docLink = document.createElement('div');\n",
              "          docLink.innerHTML = docLinkHtml;\n",
              "          element.appendChild(docLink);\n",
              "        }\n",
              "      </script>\n",
              "    </div>\n",
              "  </div>\n",
              "  "
            ]
          },
          "metadata": {},
          "execution_count": 41
        }
      ],
      "source": [
        "data[data['Date'] == '16/12/2006']"
      ]
    },
    {
      "cell_type": "markdown",
      "id": "62cc74bb",
      "metadata": {
        "id": "62cc74bb"
      },
      "source": [
        "### Data Cleaning"
      ]
    },
    {
      "cell_type": "code",
      "execution_count": 42,
      "id": "c1773fd9",
      "metadata": {
        "colab": {
          "base_uri": "https://localhost:8080/"
        },
        "id": "c1773fd9",
        "outputId": "329d45a3-ec6c-4419-f5a0-8f04d9f656e6"
      },
      "outputs": [
        {
          "output_type": "execute_result",
          "data": {
            "text/plain": [
              "Date                       0\n",
              "Time                       0\n",
              "Global_active_power        0\n",
              "Global_reactive_power      0\n",
              "Voltage                    0\n",
              "Global_intensity           0\n",
              "Sub_metering_1             0\n",
              "Sub_metering_2             0\n",
              "Sub_metering_3           642\n",
              "dtype: int64"
            ]
          },
          "metadata": {},
          "execution_count": 42
        }
      ],
      "source": [
        "data.isnull().sum()"
      ]
    },
    {
      "cell_type": "code",
      "execution_count": 43,
      "id": "0ec4abc4",
      "metadata": {
        "colab": {
          "base_uri": "https://localhost:8080/",
          "height": 424
        },
        "id": "0ec4abc4",
        "outputId": "07080570-eda8-4114-ef89-8500b49525f6"
      },
      "outputs": [
        {
          "output_type": "execute_result",
          "data": {
            "text/plain": [
              "            Date      Time Global_active_power Global_reactive_power Voltage  \\\n",
              "189    12/1/2010  15:17:00                   ?                     ?       ?   \n",
              "238    30/4/2007  07:52:00                   ?                     ?       ?   \n",
              "368    14/1/2010  16:11:00                   ?                     ?       ?   \n",
              "439    14/1/2010  16:30:00                   ?                     ?       ?   \n",
              "477    28/9/2010  08:02:00                   ?                     ?       ?   \n",
              "...          ...       ...                 ...                   ...     ...   \n",
              "49772  21/8/2010  05:06:00                   ?                     ?       ?   \n",
              "49835  14/1/2010  08:13:00                   ?                     ?       ?   \n",
              "49877  22/8/2010  04:27:00                   ?                     ?       ?   \n",
              "49922  13/6/2009  02:38:00                   ?                     ?       ?   \n",
              "49970  25/9/2010  06:55:00                   ?                     ?       ?   \n",
              "\n",
              "      Global_intensity Sub_metering_1 Sub_metering_2  Sub_metering_3  \n",
              "189                  ?              ?              ?             NaN  \n",
              "238                  ?              ?              ?             NaN  \n",
              "368                  ?              ?              ?             NaN  \n",
              "439                  ?              ?              ?             NaN  \n",
              "477                  ?              ?              ?             NaN  \n",
              "...                ...            ...            ...             ...  \n",
              "49772                ?              ?              ?             NaN  \n",
              "49835                ?              ?              ?             NaN  \n",
              "49877                ?              ?              ?             NaN  \n",
              "49922                ?              ?              ?             NaN  \n",
              "49970                ?              ?              ?             NaN  \n",
              "\n",
              "[642 rows x 9 columns]"
            ],
            "text/html": [
              "\n",
              "  <div id=\"df-6e3ac5f8-5734-4ced-b90e-fa9bc1d45af6\">\n",
              "    <div class=\"colab-df-container\">\n",
              "      <div>\n",
              "<style scoped>\n",
              "    .dataframe tbody tr th:only-of-type {\n",
              "        vertical-align: middle;\n",
              "    }\n",
              "\n",
              "    .dataframe tbody tr th {\n",
              "        vertical-align: top;\n",
              "    }\n",
              "\n",
              "    .dataframe thead th {\n",
              "        text-align: right;\n",
              "    }\n",
              "</style>\n",
              "<table border=\"1\" class=\"dataframe\">\n",
              "  <thead>\n",
              "    <tr style=\"text-align: right;\">\n",
              "      <th></th>\n",
              "      <th>Date</th>\n",
              "      <th>Time</th>\n",
              "      <th>Global_active_power</th>\n",
              "      <th>Global_reactive_power</th>\n",
              "      <th>Voltage</th>\n",
              "      <th>Global_intensity</th>\n",
              "      <th>Sub_metering_1</th>\n",
              "      <th>Sub_metering_2</th>\n",
              "      <th>Sub_metering_3</th>\n",
              "    </tr>\n",
              "  </thead>\n",
              "  <tbody>\n",
              "    <tr>\n",
              "      <th>189</th>\n",
              "      <td>12/1/2010</td>\n",
              "      <td>15:17:00</td>\n",
              "      <td>?</td>\n",
              "      <td>?</td>\n",
              "      <td>?</td>\n",
              "      <td>?</td>\n",
              "      <td>?</td>\n",
              "      <td>?</td>\n",
              "      <td>NaN</td>\n",
              "    </tr>\n",
              "    <tr>\n",
              "      <th>238</th>\n",
              "      <td>30/4/2007</td>\n",
              "      <td>07:52:00</td>\n",
              "      <td>?</td>\n",
              "      <td>?</td>\n",
              "      <td>?</td>\n",
              "      <td>?</td>\n",
              "      <td>?</td>\n",
              "      <td>?</td>\n",
              "      <td>NaN</td>\n",
              "    </tr>\n",
              "    <tr>\n",
              "      <th>368</th>\n",
              "      <td>14/1/2010</td>\n",
              "      <td>16:11:00</td>\n",
              "      <td>?</td>\n",
              "      <td>?</td>\n",
              "      <td>?</td>\n",
              "      <td>?</td>\n",
              "      <td>?</td>\n",
              "      <td>?</td>\n",
              "      <td>NaN</td>\n",
              "    </tr>\n",
              "    <tr>\n",
              "      <th>439</th>\n",
              "      <td>14/1/2010</td>\n",
              "      <td>16:30:00</td>\n",
              "      <td>?</td>\n",
              "      <td>?</td>\n",
              "      <td>?</td>\n",
              "      <td>?</td>\n",
              "      <td>?</td>\n",
              "      <td>?</td>\n",
              "      <td>NaN</td>\n",
              "    </tr>\n",
              "    <tr>\n",
              "      <th>477</th>\n",
              "      <td>28/9/2010</td>\n",
              "      <td>08:02:00</td>\n",
              "      <td>?</td>\n",
              "      <td>?</td>\n",
              "      <td>?</td>\n",
              "      <td>?</td>\n",
              "      <td>?</td>\n",
              "      <td>?</td>\n",
              "      <td>NaN</td>\n",
              "    </tr>\n",
              "    <tr>\n",
              "      <th>...</th>\n",
              "      <td>...</td>\n",
              "      <td>...</td>\n",
              "      <td>...</td>\n",
              "      <td>...</td>\n",
              "      <td>...</td>\n",
              "      <td>...</td>\n",
              "      <td>...</td>\n",
              "      <td>...</td>\n",
              "      <td>...</td>\n",
              "    </tr>\n",
              "    <tr>\n",
              "      <th>49772</th>\n",
              "      <td>21/8/2010</td>\n",
              "      <td>05:06:00</td>\n",
              "      <td>?</td>\n",
              "      <td>?</td>\n",
              "      <td>?</td>\n",
              "      <td>?</td>\n",
              "      <td>?</td>\n",
              "      <td>?</td>\n",
              "      <td>NaN</td>\n",
              "    </tr>\n",
              "    <tr>\n",
              "      <th>49835</th>\n",
              "      <td>14/1/2010</td>\n",
              "      <td>08:13:00</td>\n",
              "      <td>?</td>\n",
              "      <td>?</td>\n",
              "      <td>?</td>\n",
              "      <td>?</td>\n",
              "      <td>?</td>\n",
              "      <td>?</td>\n",
              "      <td>NaN</td>\n",
              "    </tr>\n",
              "    <tr>\n",
              "      <th>49877</th>\n",
              "      <td>22/8/2010</td>\n",
              "      <td>04:27:00</td>\n",
              "      <td>?</td>\n",
              "      <td>?</td>\n",
              "      <td>?</td>\n",
              "      <td>?</td>\n",
              "      <td>?</td>\n",
              "      <td>?</td>\n",
              "      <td>NaN</td>\n",
              "    </tr>\n",
              "    <tr>\n",
              "      <th>49922</th>\n",
              "      <td>13/6/2009</td>\n",
              "      <td>02:38:00</td>\n",
              "      <td>?</td>\n",
              "      <td>?</td>\n",
              "      <td>?</td>\n",
              "      <td>?</td>\n",
              "      <td>?</td>\n",
              "      <td>?</td>\n",
              "      <td>NaN</td>\n",
              "    </tr>\n",
              "    <tr>\n",
              "      <th>49970</th>\n",
              "      <td>25/9/2010</td>\n",
              "      <td>06:55:00</td>\n",
              "      <td>?</td>\n",
              "      <td>?</td>\n",
              "      <td>?</td>\n",
              "      <td>?</td>\n",
              "      <td>?</td>\n",
              "      <td>?</td>\n",
              "      <td>NaN</td>\n",
              "    </tr>\n",
              "  </tbody>\n",
              "</table>\n",
              "<p>642 rows × 9 columns</p>\n",
              "</div>\n",
              "      <button class=\"colab-df-convert\" onclick=\"convertToInteractive('df-6e3ac5f8-5734-4ced-b90e-fa9bc1d45af6')\"\n",
              "              title=\"Convert this dataframe to an interactive table.\"\n",
              "              style=\"display:none;\">\n",
              "        \n",
              "  <svg xmlns=\"http://www.w3.org/2000/svg\" height=\"24px\"viewBox=\"0 0 24 24\"\n",
              "       width=\"24px\">\n",
              "    <path d=\"M0 0h24v24H0V0z\" fill=\"none\"/>\n",
              "    <path d=\"M18.56 5.44l.94 2.06.94-2.06 2.06-.94-2.06-.94-.94-2.06-.94 2.06-2.06.94zm-11 1L8.5 8.5l.94-2.06 2.06-.94-2.06-.94L8.5 2.5l-.94 2.06-2.06.94zm10 10l.94 2.06.94-2.06 2.06-.94-2.06-.94-.94-2.06-.94 2.06-2.06.94z\"/><path d=\"M17.41 7.96l-1.37-1.37c-.4-.4-.92-.59-1.43-.59-.52 0-1.04.2-1.43.59L10.3 9.45l-7.72 7.72c-.78.78-.78 2.05 0 2.83L4 21.41c.39.39.9.59 1.41.59.51 0 1.02-.2 1.41-.59l7.78-7.78 2.81-2.81c.8-.78.8-2.07 0-2.86zM5.41 20L4 18.59l7.72-7.72 1.47 1.35L5.41 20z\"/>\n",
              "  </svg>\n",
              "      </button>\n",
              "      \n",
              "  <style>\n",
              "    .colab-df-container {\n",
              "      display:flex;\n",
              "      flex-wrap:wrap;\n",
              "      gap: 12px;\n",
              "    }\n",
              "\n",
              "    .colab-df-convert {\n",
              "      background-color: #E8F0FE;\n",
              "      border: none;\n",
              "      border-radius: 50%;\n",
              "      cursor: pointer;\n",
              "      display: none;\n",
              "      fill: #1967D2;\n",
              "      height: 32px;\n",
              "      padding: 0 0 0 0;\n",
              "      width: 32px;\n",
              "    }\n",
              "\n",
              "    .colab-df-convert:hover {\n",
              "      background-color: #E2EBFA;\n",
              "      box-shadow: 0px 1px 2px rgba(60, 64, 67, 0.3), 0px 1px 3px 1px rgba(60, 64, 67, 0.15);\n",
              "      fill: #174EA6;\n",
              "    }\n",
              "\n",
              "    [theme=dark] .colab-df-convert {\n",
              "      background-color: #3B4455;\n",
              "      fill: #D2E3FC;\n",
              "    }\n",
              "\n",
              "    [theme=dark] .colab-df-convert:hover {\n",
              "      background-color: #434B5C;\n",
              "      box-shadow: 0px 1px 3px 1px rgba(0, 0, 0, 0.15);\n",
              "      filter: drop-shadow(0px 1px 2px rgba(0, 0, 0, 0.3));\n",
              "      fill: #FFFFFF;\n",
              "    }\n",
              "  </style>\n",
              "\n",
              "      <script>\n",
              "        const buttonEl =\n",
              "          document.querySelector('#df-6e3ac5f8-5734-4ced-b90e-fa9bc1d45af6 button.colab-df-convert');\n",
              "        buttonEl.style.display =\n",
              "          google.colab.kernel.accessAllowed ? 'block' : 'none';\n",
              "\n",
              "        async function convertToInteractive(key) {\n",
              "          const element = document.querySelector('#df-6e3ac5f8-5734-4ced-b90e-fa9bc1d45af6');\n",
              "          const dataTable =\n",
              "            await google.colab.kernel.invokeFunction('convertToInteractive',\n",
              "                                                     [key], {});\n",
              "          if (!dataTable) return;\n",
              "\n",
              "          const docLinkHtml = 'Like what you see? Visit the ' +\n",
              "            '<a target=\"_blank\" href=https://colab.research.google.com/notebooks/data_table.ipynb>data table notebook</a>'\n",
              "            + ' to learn more about interactive tables.';\n",
              "          element.innerHTML = '';\n",
              "          dataTable['output_type'] = 'display_data';\n",
              "          await google.colab.output.renderOutput(dataTable, element);\n",
              "          const docLink = document.createElement('div');\n",
              "          docLink.innerHTML = docLinkHtml;\n",
              "          element.appendChild(docLink);\n",
              "        }\n",
              "      </script>\n",
              "    </div>\n",
              "  </div>\n",
              "  "
            ]
          },
          "metadata": {},
          "execution_count": 43
        }
      ],
      "source": [
        "# creating bool series True for NaN values\n",
        "bool_series = pd.isnull(data[\"Sub_metering_3\"])\n",
        "   \n",
        "# filtering data\n",
        "# displaying data only with Sub_metering_3 = NaN\n",
        "data[bool_series]"
      ]
    },
    {
      "cell_type": "markdown",
      "id": "d1018866",
      "metadata": {
        "id": "d1018866"
      },
      "source": [
        "**Observation:**\n",
        "Except Date and Time columns, all columns are having no data"
      ]
    },
    {
      "cell_type": "markdown",
      "id": "8c932607",
      "metadata": {
        "id": "8c932607"
      },
      "source": [
        "### Replacing '?' with np.nan"
      ]
    },
    {
      "cell_type": "code",
      "execution_count": 44,
      "id": "cde685e3",
      "metadata": {
        "id": "cde685e3"
      },
      "outputs": [],
      "source": [
        "data.replace('?',np.nan,inplace=True)"
      ]
    },
    {
      "cell_type": "code",
      "execution_count": 45,
      "id": "4557c8ad",
      "metadata": {
        "id": "4557c8ad"
      },
      "outputs": [],
      "source": [
        "data.dropna(axis=0,inplace=True)"
      ]
    },
    {
      "cell_type": "code",
      "execution_count": 46,
      "id": "9602face",
      "metadata": {
        "id": "9602face"
      },
      "outputs": [],
      "source": [
        "data.reset_index(inplace = True, drop = True)"
      ]
    },
    {
      "cell_type": "code",
      "execution_count": 47,
      "id": "f313839e",
      "metadata": {
        "colab": {
          "base_uri": "https://localhost:8080/",
          "height": 206
        },
        "id": "f313839e",
        "outputId": "6dcb6942-9646-43e8-dc9e-96d1583e39c8"
      },
      "outputs": [
        {
          "output_type": "execute_result",
          "data": {
            "text/plain": [
              "        Date      Time Global_active_power Global_reactive_power  Voltage  \\\n",
              "0  30/4/2010  21:30:00               0.846                 0.142  239.240   \n",
              "1  2/12/2007  11:35:00               2.570                 0.316  234.800   \n",
              "2  26/4/2007  05:57:00               0.190                 0.070  237.690   \n",
              "3  31/1/2009  07:25:00               2.404                 0.000  243.460   \n",
              "4  10/4/2009  23:15:00               0.694                 0.062  242.720   \n",
              "\n",
              "  Global_intensity Sub_metering_1 Sub_metering_2  Sub_metering_3  \n",
              "0            3.600          0.000          0.000            11.0  \n",
              "1           11.000          0.000          0.000            17.0  \n",
              "2            0.800          0.000          0.000             0.0  \n",
              "3            9.800          0.000          0.000            18.0  \n",
              "4            3.200          0.000          0.000             8.0  "
            ],
            "text/html": [
              "\n",
              "  <div id=\"df-d5174e7d-97ec-423e-a238-2672661c04ec\">\n",
              "    <div class=\"colab-df-container\">\n",
              "      <div>\n",
              "<style scoped>\n",
              "    .dataframe tbody tr th:only-of-type {\n",
              "        vertical-align: middle;\n",
              "    }\n",
              "\n",
              "    .dataframe tbody tr th {\n",
              "        vertical-align: top;\n",
              "    }\n",
              "\n",
              "    .dataframe thead th {\n",
              "        text-align: right;\n",
              "    }\n",
              "</style>\n",
              "<table border=\"1\" class=\"dataframe\">\n",
              "  <thead>\n",
              "    <tr style=\"text-align: right;\">\n",
              "      <th></th>\n",
              "      <th>Date</th>\n",
              "      <th>Time</th>\n",
              "      <th>Global_active_power</th>\n",
              "      <th>Global_reactive_power</th>\n",
              "      <th>Voltage</th>\n",
              "      <th>Global_intensity</th>\n",
              "      <th>Sub_metering_1</th>\n",
              "      <th>Sub_metering_2</th>\n",
              "      <th>Sub_metering_3</th>\n",
              "    </tr>\n",
              "  </thead>\n",
              "  <tbody>\n",
              "    <tr>\n",
              "      <th>0</th>\n",
              "      <td>30/4/2010</td>\n",
              "      <td>21:30:00</td>\n",
              "      <td>0.846</td>\n",
              "      <td>0.142</td>\n",
              "      <td>239.240</td>\n",
              "      <td>3.600</td>\n",
              "      <td>0.000</td>\n",
              "      <td>0.000</td>\n",
              "      <td>11.0</td>\n",
              "    </tr>\n",
              "    <tr>\n",
              "      <th>1</th>\n",
              "      <td>2/12/2007</td>\n",
              "      <td>11:35:00</td>\n",
              "      <td>2.570</td>\n",
              "      <td>0.316</td>\n",
              "      <td>234.800</td>\n",
              "      <td>11.000</td>\n",
              "      <td>0.000</td>\n",
              "      <td>0.000</td>\n",
              "      <td>17.0</td>\n",
              "    </tr>\n",
              "    <tr>\n",
              "      <th>2</th>\n",
              "      <td>26/4/2007</td>\n",
              "      <td>05:57:00</td>\n",
              "      <td>0.190</td>\n",
              "      <td>0.070</td>\n",
              "      <td>237.690</td>\n",
              "      <td>0.800</td>\n",
              "      <td>0.000</td>\n",
              "      <td>0.000</td>\n",
              "      <td>0.0</td>\n",
              "    </tr>\n",
              "    <tr>\n",
              "      <th>3</th>\n",
              "      <td>31/1/2009</td>\n",
              "      <td>07:25:00</td>\n",
              "      <td>2.404</td>\n",
              "      <td>0.000</td>\n",
              "      <td>243.460</td>\n",
              "      <td>9.800</td>\n",
              "      <td>0.000</td>\n",
              "      <td>0.000</td>\n",
              "      <td>18.0</td>\n",
              "    </tr>\n",
              "    <tr>\n",
              "      <th>4</th>\n",
              "      <td>10/4/2009</td>\n",
              "      <td>23:15:00</td>\n",
              "      <td>0.694</td>\n",
              "      <td>0.062</td>\n",
              "      <td>242.720</td>\n",
              "      <td>3.200</td>\n",
              "      <td>0.000</td>\n",
              "      <td>0.000</td>\n",
              "      <td>8.0</td>\n",
              "    </tr>\n",
              "  </tbody>\n",
              "</table>\n",
              "</div>\n",
              "      <button class=\"colab-df-convert\" onclick=\"convertToInteractive('df-d5174e7d-97ec-423e-a238-2672661c04ec')\"\n",
              "              title=\"Convert this dataframe to an interactive table.\"\n",
              "              style=\"display:none;\">\n",
              "        \n",
              "  <svg xmlns=\"http://www.w3.org/2000/svg\" height=\"24px\"viewBox=\"0 0 24 24\"\n",
              "       width=\"24px\">\n",
              "    <path d=\"M0 0h24v24H0V0z\" fill=\"none\"/>\n",
              "    <path d=\"M18.56 5.44l.94 2.06.94-2.06 2.06-.94-2.06-.94-.94-2.06-.94 2.06-2.06.94zm-11 1L8.5 8.5l.94-2.06 2.06-.94-2.06-.94L8.5 2.5l-.94 2.06-2.06.94zm10 10l.94 2.06.94-2.06 2.06-.94-2.06-.94-.94-2.06-.94 2.06-2.06.94z\"/><path d=\"M17.41 7.96l-1.37-1.37c-.4-.4-.92-.59-1.43-.59-.52 0-1.04.2-1.43.59L10.3 9.45l-7.72 7.72c-.78.78-.78 2.05 0 2.83L4 21.41c.39.39.9.59 1.41.59.51 0 1.02-.2 1.41-.59l7.78-7.78 2.81-2.81c.8-.78.8-2.07 0-2.86zM5.41 20L4 18.59l7.72-7.72 1.47 1.35L5.41 20z\"/>\n",
              "  </svg>\n",
              "      </button>\n",
              "      \n",
              "  <style>\n",
              "    .colab-df-container {\n",
              "      display:flex;\n",
              "      flex-wrap:wrap;\n",
              "      gap: 12px;\n",
              "    }\n",
              "\n",
              "    .colab-df-convert {\n",
              "      background-color: #E8F0FE;\n",
              "      border: none;\n",
              "      border-radius: 50%;\n",
              "      cursor: pointer;\n",
              "      display: none;\n",
              "      fill: #1967D2;\n",
              "      height: 32px;\n",
              "      padding: 0 0 0 0;\n",
              "      width: 32px;\n",
              "    }\n",
              "\n",
              "    .colab-df-convert:hover {\n",
              "      background-color: #E2EBFA;\n",
              "      box-shadow: 0px 1px 2px rgba(60, 64, 67, 0.3), 0px 1px 3px 1px rgba(60, 64, 67, 0.15);\n",
              "      fill: #174EA6;\n",
              "    }\n",
              "\n",
              "    [theme=dark] .colab-df-convert {\n",
              "      background-color: #3B4455;\n",
              "      fill: #D2E3FC;\n",
              "    }\n",
              "\n",
              "    [theme=dark] .colab-df-convert:hover {\n",
              "      background-color: #434B5C;\n",
              "      box-shadow: 0px 1px 3px 1px rgba(0, 0, 0, 0.15);\n",
              "      filter: drop-shadow(0px 1px 2px rgba(0, 0, 0, 0.3));\n",
              "      fill: #FFFFFF;\n",
              "    }\n",
              "  </style>\n",
              "\n",
              "      <script>\n",
              "        const buttonEl =\n",
              "          document.querySelector('#df-d5174e7d-97ec-423e-a238-2672661c04ec button.colab-df-convert');\n",
              "        buttonEl.style.display =\n",
              "          google.colab.kernel.accessAllowed ? 'block' : 'none';\n",
              "\n",
              "        async function convertToInteractive(key) {\n",
              "          const element = document.querySelector('#df-d5174e7d-97ec-423e-a238-2672661c04ec');\n",
              "          const dataTable =\n",
              "            await google.colab.kernel.invokeFunction('convertToInteractive',\n",
              "                                                     [key], {});\n",
              "          if (!dataTable) return;\n",
              "\n",
              "          const docLinkHtml = 'Like what you see? Visit the ' +\n",
              "            '<a target=\"_blank\" href=https://colab.research.google.com/notebooks/data_table.ipynb>data table notebook</a>'\n",
              "            + ' to learn more about interactive tables.';\n",
              "          element.innerHTML = '';\n",
              "          dataTable['output_type'] = 'display_data';\n",
              "          await google.colab.output.renderOutput(dataTable, element);\n",
              "          const docLink = document.createElement('div');\n",
              "          docLink.innerHTML = docLinkHtml;\n",
              "          element.appendChild(docLink);\n",
              "        }\n",
              "      </script>\n",
              "    </div>\n",
              "  </div>\n",
              "  "
            ]
          },
          "metadata": {},
          "execution_count": 47
        }
      ],
      "source": [
        "data.head()"
      ]
    },
    {
      "cell_type": "code",
      "source": [
        "data.shape"
      ],
      "metadata": {
        "colab": {
          "base_uri": "https://localhost:8080/"
        },
        "id": "l_SInKGFmdDV",
        "outputId": "dcc7103d-58ea-48be-b2ed-ee31c0008038"
      },
      "id": "l_SInKGFmdDV",
      "execution_count": 48,
      "outputs": [
        {
          "output_type": "execute_result",
          "data": {
            "text/plain": [
              "(49358, 9)"
            ]
          },
          "metadata": {},
          "execution_count": 48
        }
      ]
    },
    {
      "cell_type": "code",
      "execution_count": 49,
      "id": "a31e02db",
      "metadata": {
        "colab": {
          "base_uri": "https://localhost:8080/"
        },
        "id": "a31e02db",
        "outputId": "f72950cd-2110-4bf6-a5d7-23b3c90899e0"
      },
      "outputs": [
        {
          "output_type": "stream",
          "name": "stdout",
          "text": [
            "<class 'pandas.core.frame.DataFrame'>\n",
            "RangeIndex: 49358 entries, 0 to 49357\n",
            "Data columns (total 9 columns):\n",
            " #   Column                 Non-Null Count  Dtype  \n",
            "---  ------                 --------------  -----  \n",
            " 0   Date                   49358 non-null  object \n",
            " 1   Time                   49358 non-null  object \n",
            " 2   Global_active_power    49358 non-null  object \n",
            " 3   Global_reactive_power  49358 non-null  object \n",
            " 4   Voltage                49358 non-null  object \n",
            " 5   Global_intensity       49358 non-null  object \n",
            " 6   Sub_metering_1         49358 non-null  object \n",
            " 7   Sub_metering_2         49358 non-null  object \n",
            " 8   Sub_metering_3         49358 non-null  float64\n",
            "dtypes: float64(1), object(8)\n",
            "memory usage: 3.4+ MB\n"
          ]
        }
      ],
      "source": [
        "data.info()"
      ]
    },
    {
      "cell_type": "code",
      "execution_count": 50,
      "id": "8b88ad7f",
      "metadata": {
        "colab": {
          "base_uri": "https://localhost:8080/"
        },
        "id": "8b88ad7f",
        "outputId": "87450c3e-27fa-4223-cef8-2f7d953cc6c0"
      },
      "outputs": [
        {
          "output_type": "execute_result",
          "data": {
            "text/plain": [
              "array(['30/4/2010', '2/12/2007', '26/4/2007', ..., '17/2/2009',\n",
              "       '22/8/2010', '20/3/2010'], dtype=object)"
            ]
          },
          "metadata": {},
          "execution_count": 50
        }
      ],
      "source": [
        "data['Date'].unique()"
      ]
    },
    {
      "cell_type": "markdown",
      "id": "e6dae0c7",
      "metadata": {
        "id": "e6dae0c7"
      },
      "source": [
        "### spliting the Date column into 3 columns - Day, Month, Year"
      ]
    },
    {
      "cell_type": "code",
      "execution_count": 51,
      "id": "5a07b16e",
      "metadata": {
        "id": "5a07b16e"
      },
      "outputs": [],
      "source": [
        "data['Date1']=data.Date.apply(lambda x:x.split('/')[0]).astype(int)\n",
        "data['Month']=data.Date.apply(lambda x:x.split('/')[1]).astype(int)\n",
        "data['Year']=data.Date.apply(lambda x:x.split('/')[2]).astype(int)"
      ]
    },
    {
      "cell_type": "code",
      "execution_count": 52,
      "id": "d1535e33",
      "metadata": {
        "colab": {
          "base_uri": "https://localhost:8080/"
        },
        "id": "d1535e33",
        "outputId": "48619b1b-ea98-4762-ea2c-f605af787e1b"
      },
      "outputs": [
        {
          "output_type": "execute_result",
          "data": {
            "text/plain": [
              "22:45:00    61\n",
              "04:58:00    57\n",
              "04:11:00    56\n",
              "14:32:00    55\n",
              "21:30:00    52\n",
              "            ..\n",
              "14:41:00    19\n",
              "00:16:00    19\n",
              "02:07:00    18\n",
              "22:47:00    17\n",
              "15:41:00    16\n",
              "Name: Time, Length: 1440, dtype: int64"
            ]
          },
          "metadata": {},
          "execution_count": 52
        }
      ],
      "source": [
        "data['Time'].value_counts()"
      ]
    },
    {
      "cell_type": "markdown",
      "id": "9d9ffda3",
      "metadata": {
        "id": "9d9ffda3"
      },
      "source": [
        "### spliting the Time column into 2 columns - Hours and Minutes"
      ]
    },
    {
      "cell_type": "code",
      "execution_count": 53,
      "id": "487c1489",
      "metadata": {
        "id": "487c1489"
      },
      "outputs": [],
      "source": [
        "data['hour']=data.Time.apply(lambda x:x.split(' ')[0].split(':')[0]).astype('int')\n",
        "data['min']=data.Time.apply(lambda x:x.split(' ')[0].split(':')[1]).astype('int')"
      ]
    },
    {
      "cell_type": "markdown",
      "id": "99a632ec",
      "metadata": {
        "id": "99a632ec"
      },
      "source": [
        "### Removing Date and Time columns "
      ]
    },
    {
      "cell_type": "code",
      "execution_count": 54,
      "id": "95f59110",
      "metadata": {
        "id": "95f59110"
      },
      "outputs": [],
      "source": [
        "data.drop(['Date','Time'],axis=1,inplace=True)"
      ]
    },
    {
      "cell_type": "markdown",
      "id": "10c1973b",
      "metadata": {
        "id": "10c1973b"
      },
      "source": [
        "### Changing the datatype of few columns from Object to Float"
      ]
    },
    {
      "cell_type": "code",
      "execution_count": 55,
      "id": "1bfbffd0",
      "metadata": {
        "id": "1bfbffd0"
      },
      "outputs": [],
      "source": [
        "data['Global_active_power'] = data['Global_active_power'].astype(float)\n",
        "data['Global_reactive_power'] = data['Global_reactive_power'].astype(float)\n",
        "data['Voltage'] = data['Voltage'].astype(float)\n",
        "data['Global_intensity'] = data['Global_intensity'].astype(float)\n",
        "data['Sub_metering_1'] = data['Sub_metering_1'].astype(float)\n",
        "data['Sub_metering_2'] = data['Sub_metering_2'].astype(float)\n",
        "data['Sub_metering_3'] = data['Sub_metering_3'].astype(float)"
      ]
    },
    {
      "cell_type": "code",
      "execution_count": 56,
      "id": "f22790c9",
      "metadata": {
        "colab": {
          "base_uri": "https://localhost:8080/"
        },
        "id": "f22790c9",
        "outputId": "2926c1f1-aac6-4e91-d1ac-e5349294213d"
      },
      "outputs": [
        {
          "output_type": "stream",
          "name": "stdout",
          "text": [
            "<class 'pandas.core.frame.DataFrame'>\n",
            "RangeIndex: 49358 entries, 0 to 49357\n",
            "Data columns (total 12 columns):\n",
            " #   Column                 Non-Null Count  Dtype  \n",
            "---  ------                 --------------  -----  \n",
            " 0   Global_active_power    49358 non-null  float64\n",
            " 1   Global_reactive_power  49358 non-null  float64\n",
            " 2   Voltage                49358 non-null  float64\n",
            " 3   Global_intensity       49358 non-null  float64\n",
            " 4   Sub_metering_1         49358 non-null  float64\n",
            " 5   Sub_metering_2         49358 non-null  float64\n",
            " 6   Sub_metering_3         49358 non-null  float64\n",
            " 7   Date1                  49358 non-null  int64  \n",
            " 8   Month                  49358 non-null  int64  \n",
            " 9   Year                   49358 non-null  int64  \n",
            " 10  hour                   49358 non-null  int64  \n",
            " 11  min                    49358 non-null  int64  \n",
            "dtypes: float64(7), int64(5)\n",
            "memory usage: 4.5 MB\n"
          ]
        }
      ],
      "source": [
        "data.info()"
      ]
    },
    {
      "cell_type": "markdown",
      "id": "11fcbf37",
      "metadata": {
        "id": "11fcbf37"
      },
      "source": [
        "### Merging Sub_metering_1, Sub_metering_1, Sub_metering_1 into Total_Consumption"
      ]
    },
    {
      "cell_type": "code",
      "execution_count": 57,
      "id": "19043ea8",
      "metadata": {
        "id": "19043ea8"
      },
      "outputs": [],
      "source": [
        "data['Total_Consumption'] = data['Sub_metering_1']+data['Sub_metering_2']+data['Sub_metering_3']"
      ]
    },
    {
      "cell_type": "code",
      "execution_count": 58,
      "id": "06280856",
      "metadata": {
        "id": "06280856"
      },
      "outputs": [],
      "source": [
        "data.drop(axis=1, columns=['Sub_metering_1', 'Sub_metering_2', 'Sub_metering_3'], inplace=True)"
      ]
    },
    {
      "cell_type": "code",
      "execution_count": 59,
      "id": "c2852e50",
      "metadata": {
        "colab": {
          "base_uri": "https://localhost:8080/",
          "height": 206
        },
        "id": "c2852e50",
        "outputId": "c5c81693-00ce-4bf1-abf3-2cc6ac5840c1"
      },
      "outputs": [
        {
          "output_type": "execute_result",
          "data": {
            "text/plain": [
              "   Global_active_power  Global_reactive_power  Voltage  Global_intensity  \\\n",
              "0                0.846                  0.142   239.24               3.6   \n",
              "1                2.570                  0.316   234.80              11.0   \n",
              "2                0.190                  0.070   237.69               0.8   \n",
              "3                2.404                  0.000   243.46               9.8   \n",
              "4                0.694                  0.062   242.72               3.2   \n",
              "\n",
              "   Date1  Month  Year  hour  min  Total_Consumption  \n",
              "0     30      4  2010    21   30               11.0  \n",
              "1      2     12  2007    11   35               17.0  \n",
              "2     26      4  2007     5   57                0.0  \n",
              "3     31      1  2009     7   25               18.0  \n",
              "4     10      4  2009    23   15                8.0  "
            ],
            "text/html": [
              "\n",
              "  <div id=\"df-602eead0-4580-4d1b-99db-4bf4697408f3\">\n",
              "    <div class=\"colab-df-container\">\n",
              "      <div>\n",
              "<style scoped>\n",
              "    .dataframe tbody tr th:only-of-type {\n",
              "        vertical-align: middle;\n",
              "    }\n",
              "\n",
              "    .dataframe tbody tr th {\n",
              "        vertical-align: top;\n",
              "    }\n",
              "\n",
              "    .dataframe thead th {\n",
              "        text-align: right;\n",
              "    }\n",
              "</style>\n",
              "<table border=\"1\" class=\"dataframe\">\n",
              "  <thead>\n",
              "    <tr style=\"text-align: right;\">\n",
              "      <th></th>\n",
              "      <th>Global_active_power</th>\n",
              "      <th>Global_reactive_power</th>\n",
              "      <th>Voltage</th>\n",
              "      <th>Global_intensity</th>\n",
              "      <th>Date1</th>\n",
              "      <th>Month</th>\n",
              "      <th>Year</th>\n",
              "      <th>hour</th>\n",
              "      <th>min</th>\n",
              "      <th>Total_Consumption</th>\n",
              "    </tr>\n",
              "  </thead>\n",
              "  <tbody>\n",
              "    <tr>\n",
              "      <th>0</th>\n",
              "      <td>0.846</td>\n",
              "      <td>0.142</td>\n",
              "      <td>239.24</td>\n",
              "      <td>3.6</td>\n",
              "      <td>30</td>\n",
              "      <td>4</td>\n",
              "      <td>2010</td>\n",
              "      <td>21</td>\n",
              "      <td>30</td>\n",
              "      <td>11.0</td>\n",
              "    </tr>\n",
              "    <tr>\n",
              "      <th>1</th>\n",
              "      <td>2.570</td>\n",
              "      <td>0.316</td>\n",
              "      <td>234.80</td>\n",
              "      <td>11.0</td>\n",
              "      <td>2</td>\n",
              "      <td>12</td>\n",
              "      <td>2007</td>\n",
              "      <td>11</td>\n",
              "      <td>35</td>\n",
              "      <td>17.0</td>\n",
              "    </tr>\n",
              "    <tr>\n",
              "      <th>2</th>\n",
              "      <td>0.190</td>\n",
              "      <td>0.070</td>\n",
              "      <td>237.69</td>\n",
              "      <td>0.8</td>\n",
              "      <td>26</td>\n",
              "      <td>4</td>\n",
              "      <td>2007</td>\n",
              "      <td>5</td>\n",
              "      <td>57</td>\n",
              "      <td>0.0</td>\n",
              "    </tr>\n",
              "    <tr>\n",
              "      <th>3</th>\n",
              "      <td>2.404</td>\n",
              "      <td>0.000</td>\n",
              "      <td>243.46</td>\n",
              "      <td>9.8</td>\n",
              "      <td>31</td>\n",
              "      <td>1</td>\n",
              "      <td>2009</td>\n",
              "      <td>7</td>\n",
              "      <td>25</td>\n",
              "      <td>18.0</td>\n",
              "    </tr>\n",
              "    <tr>\n",
              "      <th>4</th>\n",
              "      <td>0.694</td>\n",
              "      <td>0.062</td>\n",
              "      <td>242.72</td>\n",
              "      <td>3.2</td>\n",
              "      <td>10</td>\n",
              "      <td>4</td>\n",
              "      <td>2009</td>\n",
              "      <td>23</td>\n",
              "      <td>15</td>\n",
              "      <td>8.0</td>\n",
              "    </tr>\n",
              "  </tbody>\n",
              "</table>\n",
              "</div>\n",
              "      <button class=\"colab-df-convert\" onclick=\"convertToInteractive('df-602eead0-4580-4d1b-99db-4bf4697408f3')\"\n",
              "              title=\"Convert this dataframe to an interactive table.\"\n",
              "              style=\"display:none;\">\n",
              "        \n",
              "  <svg xmlns=\"http://www.w3.org/2000/svg\" height=\"24px\"viewBox=\"0 0 24 24\"\n",
              "       width=\"24px\">\n",
              "    <path d=\"M0 0h24v24H0V0z\" fill=\"none\"/>\n",
              "    <path d=\"M18.56 5.44l.94 2.06.94-2.06 2.06-.94-2.06-.94-.94-2.06-.94 2.06-2.06.94zm-11 1L8.5 8.5l.94-2.06 2.06-.94-2.06-.94L8.5 2.5l-.94 2.06-2.06.94zm10 10l.94 2.06.94-2.06 2.06-.94-2.06-.94-.94-2.06-.94 2.06-2.06.94z\"/><path d=\"M17.41 7.96l-1.37-1.37c-.4-.4-.92-.59-1.43-.59-.52 0-1.04.2-1.43.59L10.3 9.45l-7.72 7.72c-.78.78-.78 2.05 0 2.83L4 21.41c.39.39.9.59 1.41.59.51 0 1.02-.2 1.41-.59l7.78-7.78 2.81-2.81c.8-.78.8-2.07 0-2.86zM5.41 20L4 18.59l7.72-7.72 1.47 1.35L5.41 20z\"/>\n",
              "  </svg>\n",
              "      </button>\n",
              "      \n",
              "  <style>\n",
              "    .colab-df-container {\n",
              "      display:flex;\n",
              "      flex-wrap:wrap;\n",
              "      gap: 12px;\n",
              "    }\n",
              "\n",
              "    .colab-df-convert {\n",
              "      background-color: #E8F0FE;\n",
              "      border: none;\n",
              "      border-radius: 50%;\n",
              "      cursor: pointer;\n",
              "      display: none;\n",
              "      fill: #1967D2;\n",
              "      height: 32px;\n",
              "      padding: 0 0 0 0;\n",
              "      width: 32px;\n",
              "    }\n",
              "\n",
              "    .colab-df-convert:hover {\n",
              "      background-color: #E2EBFA;\n",
              "      box-shadow: 0px 1px 2px rgba(60, 64, 67, 0.3), 0px 1px 3px 1px rgba(60, 64, 67, 0.15);\n",
              "      fill: #174EA6;\n",
              "    }\n",
              "\n",
              "    [theme=dark] .colab-df-convert {\n",
              "      background-color: #3B4455;\n",
              "      fill: #D2E3FC;\n",
              "    }\n",
              "\n",
              "    [theme=dark] .colab-df-convert:hover {\n",
              "      background-color: #434B5C;\n",
              "      box-shadow: 0px 1px 3px 1px rgba(0, 0, 0, 0.15);\n",
              "      filter: drop-shadow(0px 1px 2px rgba(0, 0, 0, 0.3));\n",
              "      fill: #FFFFFF;\n",
              "    }\n",
              "  </style>\n",
              "\n",
              "      <script>\n",
              "        const buttonEl =\n",
              "          document.querySelector('#df-602eead0-4580-4d1b-99db-4bf4697408f3 button.colab-df-convert');\n",
              "        buttonEl.style.display =\n",
              "          google.colab.kernel.accessAllowed ? 'block' : 'none';\n",
              "\n",
              "        async function convertToInteractive(key) {\n",
              "          const element = document.querySelector('#df-602eead0-4580-4d1b-99db-4bf4697408f3');\n",
              "          const dataTable =\n",
              "            await google.colab.kernel.invokeFunction('convertToInteractive',\n",
              "                                                     [key], {});\n",
              "          if (!dataTable) return;\n",
              "\n",
              "          const docLinkHtml = 'Like what you see? Visit the ' +\n",
              "            '<a target=\"_blank\" href=https://colab.research.google.com/notebooks/data_table.ipynb>data table notebook</a>'\n",
              "            + ' to learn more about interactive tables.';\n",
              "          element.innerHTML = '';\n",
              "          dataTable['output_type'] = 'display_data';\n",
              "          await google.colab.output.renderOutput(dataTable, element);\n",
              "          const docLink = document.createElement('div');\n",
              "          docLink.innerHTML = docLinkHtml;\n",
              "          element.appendChild(docLink);\n",
              "        }\n",
              "      </script>\n",
              "    </div>\n",
              "  </div>\n",
              "  "
            ]
          },
          "metadata": {},
          "execution_count": 59
        }
      ],
      "source": [
        "data.head()"
      ]
    },
    {
      "cell_type": "markdown",
      "source": [
        "### Checking duplicates"
      ],
      "metadata": {
        "id": "toPo_jQWnLH7"
      },
      "id": "toPo_jQWnLH7"
    },
    {
      "cell_type": "code",
      "execution_count": 60,
      "id": "86144673",
      "metadata": {
        "colab": {
          "base_uri": "https://localhost:8080/"
        },
        "id": "86144673",
        "outputId": "ec4183c6-48e6-4a8a-d93c-749fec3567a1"
      },
      "outputs": [
        {
          "output_type": "execute_result",
          "data": {
            "text/plain": [
              "0"
            ]
          },
          "metadata": {},
          "execution_count": 60
        }
      ],
      "source": [
        "data.duplicated().sum()"
      ]
    },
    {
      "cell_type": "markdown",
      "id": "e9b56570",
      "metadata": {
        "id": "e9b56570"
      },
      "source": [
        "#### Dependent and Independent Variables"
      ]
    },
    {
      "cell_type": "code",
      "execution_count": 62,
      "id": "a56f4fa7",
      "metadata": {
        "id": "a56f4fa7"
      },
      "outputs": [],
      "source": [
        "X = data.iloc[:,:-1]\n",
        "y = data.iloc[:,-1]"
      ]
    },
    {
      "cell_type": "code",
      "execution_count": 63,
      "id": "761dab1b",
      "metadata": {
        "colab": {
          "base_uri": "https://localhost:8080/"
        },
        "id": "761dab1b",
        "outputId": "a2d7862d-fe99-4ee5-98b9-da3b794d5cec"
      },
      "outputs": [
        {
          "output_type": "execute_result",
          "data": {
            "text/plain": [
              "((49358, 9), (49358,))"
            ]
          },
          "metadata": {},
          "execution_count": 63
        }
      ],
      "source": [
        "X.shape, y.shape"
      ]
    },
    {
      "cell_type": "markdown",
      "id": "cfc424ff",
      "metadata": {
        "id": "cfc424ff"
      },
      "source": [
        "### Train Test split"
      ]
    },
    {
      "cell_type": "code",
      "execution_count": 64,
      "id": "4eb9872b",
      "metadata": {
        "id": "4eb9872b"
      },
      "outputs": [],
      "source": [
        "from sklearn.model_selection import train_test_split\n",
        "from sklearn.tree import DecisionTreeRegressor"
      ]
    },
    {
      "cell_type": "code",
      "execution_count": 65,
      "id": "6f9a6d6d",
      "metadata": {
        "colab": {
          "base_uri": "https://localhost:8080/"
        },
        "id": "6f9a6d6d",
        "outputId": "2c34768a-fe2c-4145-b30f-df64452f1d6a"
      },
      "outputs": [
        {
          "output_type": "execute_result",
          "data": {
            "text/plain": [
              "((37018, 9), (12340, 9), (37018,), (12340,))"
            ]
          },
          "metadata": {},
          "execution_count": 65
        }
      ],
      "source": [
        "X_train, X_test, y_train, y_test = train_test_split(X, y, test_size=0.25)\n",
        "X_train.shape, X_test.shape, y_train.shape, y_test.shape"
      ]
    },
    {
      "cell_type": "markdown",
      "id": "6641b88b",
      "metadata": {
        "id": "6641b88b"
      },
      "source": [
        "### Decision Tree without Hyper parameter tunning"
      ]
    },
    {
      "cell_type": "code",
      "execution_count": 66,
      "id": "8b6f82c6",
      "metadata": {
        "colab": {
          "base_uri": "https://localhost:8080/"
        },
        "id": "8b6f82c6",
        "outputId": "d5087366-6f22-4929-8805-d8dde9acb6f8"
      },
      "outputs": [
        {
          "output_type": "execute_result",
          "data": {
            "text/plain": [
              "DecisionTreeRegressor()"
            ]
          },
          "metadata": {},
          "execution_count": 66
        }
      ],
      "source": [
        "dt = DecisionTreeRegressor()\n",
        "dt.fit(X_train,y_train)"
      ]
    },
    {
      "cell_type": "code",
      "execution_count": 67,
      "id": "ce127523",
      "metadata": {
        "colab": {
          "base_uri": "https://localhost:8080/"
        },
        "id": "ce127523",
        "outputId": "c3120b4d-d859-4984-f613-1bd08274f9cc"
      },
      "outputs": [
        {
          "output_type": "execute_result",
          "data": {
            "text/plain": [
              "1.0"
            ]
          },
          "metadata": {},
          "execution_count": 67
        }
      ],
      "source": [
        "dt.score(X_train, y_train)"
      ]
    },
    {
      "cell_type": "code",
      "execution_count": 68,
      "id": "d9138816",
      "metadata": {
        "id": "d9138816"
      },
      "outputs": [],
      "source": [
        "y_pred = dt.predict(X_test)"
      ]
    },
    {
      "cell_type": "code",
      "execution_count": null,
      "id": "36b11236",
      "metadata": {
        "id": "36b11236",
        "outputId": "45da052a-1070-4c73-f67b-02523eef4b6d"
      },
      "outputs": [
        {
          "data": {
            "text/plain": [
              "0.7436170804891238"
            ]
          },
          "execution_count": 40,
          "metadata": {},
          "output_type": "execute_result"
        }
      ],
      "source": [
        "dt.score(X_test, y_test)"
      ]
    },
    {
      "cell_type": "markdown",
      "source": [
        "### Model is Overfitting . We need to prun the Tree"
      ],
      "metadata": {
        "id": "ee9mzbDzoEa6"
      },
      "id": "ee9mzbDzoEa6"
    },
    {
      "cell_type": "markdown",
      "id": "65c594ee",
      "metadata": {
        "id": "65c594ee"
      },
      "source": [
        "### Decision Tree with Hyper parameter tunning"
      ]
    },
    {
      "cell_type": "code",
      "execution_count": 70,
      "id": "339b3bfa",
      "metadata": {
        "id": "339b3bfa"
      },
      "outputs": [],
      "source": [
        "from sklearn.model_selection import GridSearchCV"
      ]
    },
    {
      "cell_type": "code",
      "execution_count": 71,
      "id": "d55cdaf9",
      "metadata": {
        "id": "d55cdaf9"
      },
      "outputs": [],
      "source": [
        "parameters = {'criterion' : [\"squared_error\", \"friedman_mse\", \"absolute_error\"],\n",
        "             'splitter' : ['best', 'random'],\n",
        "             'max_depth' : [7,8,9,10],\n",
        "             'min_samples_split' : [10],\n",
        "             'max_features': ['auto', 'sqrt', 'log2']}"
      ]
    },
    {
      "cell_type": "code",
      "execution_count": 74,
      "id": "2ec5d3be",
      "metadata": {
        "id": "2ec5d3be"
      },
      "outputs": [],
      "source": [
        "regressorcv = GridSearchCV(estimator=DecisionTreeRegressor(),param_grid=parameters, cv=5,n_jobs=-1)"
      ]
    },
    {
      "cell_type": "code",
      "execution_count": 75,
      "id": "e8ec20db",
      "metadata": {
        "colab": {
          "base_uri": "https://localhost:8080/"
        },
        "id": "e8ec20db",
        "outputId": "244dae96-e7c0-4f76-bf38-93852bd7f9ec"
      },
      "outputs": [
        {
          "output_type": "execute_result",
          "data": {
            "text/plain": [
              "GridSearchCV(cv=5, estimator=DecisionTreeRegressor(), n_jobs=-1,\n",
              "             param_grid={'criterion': ['squared_error', 'friedman_mse',\n",
              "                                       'absolute_error'],\n",
              "                         'max_depth': [7, 8, 9, 10],\n",
              "                         'max_features': ['auto', 'sqrt', 'log2'],\n",
              "                         'min_samples_split': [10],\n",
              "                         'splitter': ['best', 'random']})"
            ]
          },
          "metadata": {},
          "execution_count": 75
        }
      ],
      "source": [
        "regressorcv.fit(X_train,y_train)"
      ]
    },
    {
      "cell_type": "code",
      "execution_count": 76,
      "id": "27d6adc1",
      "metadata": {
        "colab": {
          "base_uri": "https://localhost:8080/"
        },
        "id": "27d6adc1",
        "outputId": "103d770f-d01d-449d-aa03-41dff0612894"
      },
      "outputs": [
        {
          "output_type": "execute_result",
          "data": {
            "text/plain": [
              "{'criterion': 'squared_error',\n",
              " 'max_depth': 10,\n",
              " 'max_features': 'auto',\n",
              " 'min_samples_split': 10,\n",
              " 'splitter': 'best'}"
            ]
          },
          "metadata": {},
          "execution_count": 76
        }
      ],
      "source": [
        "regressorcv.best_params_"
      ]
    },
    {
      "cell_type": "code",
      "execution_count": 77,
      "id": "29cae211",
      "metadata": {
        "id": "29cae211"
      },
      "outputs": [],
      "source": [
        "regressor_best_param = DecisionTreeRegressor(criterion='squared_error',max_depth= 10,max_features='auto',splitter='best',min_samples_split=10)"
      ]
    },
    {
      "cell_type": "code",
      "execution_count": 78,
      "id": "8a8c4025",
      "metadata": {
        "colab": {
          "base_uri": "https://localhost:8080/"
        },
        "id": "8a8c4025",
        "outputId": "8a0dc1b2-667d-4281-e63d-1643d5e7cbf9"
      },
      "outputs": [
        {
          "output_type": "execute_result",
          "data": {
            "text/plain": [
              "DecisionTreeRegressor(max_depth=10, max_features='auto', min_samples_split=10)"
            ]
          },
          "metadata": {},
          "execution_count": 78
        }
      ],
      "source": [
        "regressor_best_param.fit(X_train, y_train)"
      ]
    },
    {
      "cell_type": "code",
      "source": [
        "regressor_best_param.score(X_train, y_train)"
      ],
      "metadata": {
        "colab": {
          "base_uri": "https://localhost:8080/"
        },
        "id": "d6ttyfYcteck",
        "outputId": "7ceaf7e4-e71d-4a3b-c97a-012fbe688e91"
      },
      "id": "d6ttyfYcteck",
      "execution_count": 84,
      "outputs": [
        {
          "output_type": "execute_result",
          "data": {
            "text/plain": [
              "0.8904654543563059"
            ]
          },
          "metadata": {},
          "execution_count": 84
        }
      ]
    },
    {
      "cell_type": "code",
      "execution_count": 79,
      "id": "8043c697",
      "metadata": {
        "id": "8043c697"
      },
      "outputs": [],
      "source": [
        "y_pred = regressor_best_param.predict(X_test)"
      ]
    },
    {
      "cell_type": "markdown",
      "id": "d6cbc948",
      "metadata": {
        "id": "d6cbc948"
      },
      "source": [
        "### R2 score"
      ]
    },
    {
      "cell_type": "code",
      "execution_count": 80,
      "id": "811ea7da",
      "metadata": {
        "id": "811ea7da"
      },
      "outputs": [],
      "source": [
        "from sklearn.metrics import r2_score"
      ]
    },
    {
      "cell_type": "code",
      "execution_count": 81,
      "id": "c4f3d901",
      "metadata": {
        "colab": {
          "base_uri": "https://localhost:8080/"
        },
        "id": "c4f3d901",
        "outputId": "ecbced37-2a79-4646-8cd4-8dc05991c675"
      },
      "outputs": [
        {
          "output_type": "execute_result",
          "data": {
            "text/plain": [
              "0.8258909867121225"
            ]
          },
          "metadata": {},
          "execution_count": 81
        }
      ],
      "source": [
        "r2_score(y_test,y_pred)"
      ]
    },
    {
      "cell_type": "code",
      "execution_count": 82,
      "id": "579318f0",
      "metadata": {
        "id": "579318f0"
      },
      "outputs": [],
      "source": [
        "### Tree Visualization"
      ]
    },
    {
      "cell_type": "code",
      "execution_count": 83,
      "id": "850ec601",
      "metadata": {
        "colab": {
          "base_uri": "https://localhost:8080/",
          "height": 729
        },
        "id": "850ec601",
        "outputId": "67ec0cd3-db35-4f20-f646-46c2b15d3281"
      },
      "outputs": [
        {
          "output_type": "display_data",
          "data": {
            "text/plain": [
              "<Figure size 1080x720 with 1 Axes>"
            ],
            "image/png": "[encoded data removed]"
          },
          "metadata": {
            "needs_background": "light"
          }
        }
      ],
      "source": [
        "from sklearn import tree\n",
        "plt.figure(figsize=(15,10))\n",
        "tree.plot_tree(regressor_best_param,filled=True, fontsize=10)\n",
        "plt.tight_layout()"
      ]
    },
    {
      "cell_type": "code",
      "execution_count": null,
      "id": "7384108d",
      "metadata": {
        "id": "7384108d"
      },
      "outputs": [],
      "source": []
    }
  ],
  "metadata": {
    "kernelspec": {
      "display_name": "Python 3 (ipykernel)",
      "language": "python",
      "name": "python3"
    },
    "language_info": {
      "codemirror_mode": {
        "name": "ipython",
        "version": 3
      },
      "file_extension": ".py",
      "mimetype": "text/x-python",
      "name": "python",
      "nbconvert_exporter": "python",
      "pygments_lexer": "ipython3",
      "version": "3.9.12"
    },
    "colab": {
      "provenance": []
    },
    "accelerator": "GPU",
    "gpuClass": "standard"
  },
  "nbformat": 4,
  "nbformat_minor": 5
}